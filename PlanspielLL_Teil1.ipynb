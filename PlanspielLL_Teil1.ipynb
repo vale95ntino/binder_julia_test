{
 "cells": [
  {
   "cell_type": "markdown",
   "metadata": {
    "slideshow": {
     "slide_type": "slide"
    }
   },
   "source": [
    "## Einrichtung von Julia JuMP\n",
    "---"
   ]
  },
  {
   "cell_type": "markdown",
   "metadata": {
    "slideshow": {
     "slide_type": "fragment"
    }
   },
   "source": [
    "Überprüfen Sie die bereits installierten Pakete. In der JuliaBox sind möglicherweise alle notwendigen Pakete bereits vorhanden."
   ]
  },
  {
   "cell_type": "code",
   "execution_count": 1,
   "metadata": {
    "slideshow": {
     "slide_type": "fragment"
    }
   },
   "outputs": [
    {
     "name": "stdout",
     "output_type": "stream",
     "text": [
      "\u001b[32m\u001b[1m    Status\u001b[22m\u001b[39m `C:\\Users\\Julia\\.julia\\environments\\v1.2\\Project.toml`\n",
      " \u001b[90m [336ed68f]\u001b[39m\u001b[37m CSV v0.5.16\u001b[39m\n",
      " \u001b[90m [a93c6f00]\u001b[39m\u001b[37m DataFrames v0.19.4\u001b[39m\n",
      " \u001b[90m [60bf3e95]\u001b[39m\u001b[37m GLPK v0.12.0\u001b[39m\n",
      " \u001b[90m [3c7084bd]\u001b[39m\u001b[37m GLPKMathProgInterface v0.4.4\u001b[39m\n",
      " \u001b[90m [7073ff75]\u001b[39m\u001b[37m IJulia v1.20.2\u001b[39m\n",
      " \u001b[90m [4076af6c]\u001b[39m\u001b[37m JuMP v0.20.1\u001b[39m\n"
     ]
    }
   ],
   "source": [
    "using Pkg;\n",
    "Pkg.status()"
   ]
  },
  {
   "cell_type": "markdown",
   "metadata": {
    "slideshow": {
     "slide_type": "slide"
    }
   },
   "source": [
    "Installieren Sie ``JuMP`` , mit dem Sie einfach Optimierungsprogramme formulieren können. Sowie ``GLPK`` einen open-source Solver zum Lösen der Problem und ``StatsPlots`` zur Visualisierung der Lösung.\n",
    "\n"
   ]
  },
  {
   "cell_type": "code",
   "execution_count": 2,
   "metadata": {
    "slideshow": {
     "slide_type": "fragment"
    }
   },
   "outputs": [],
   "source": [
    "#Pkg.add(\"JuMP\")\n",
    "#Pkg.add(\"GLPK\");"
   ]
  },
  {
   "cell_type": "markdown",
   "metadata": {
    "slideshow": {
     "slide_type": "fragment"
    }
   },
   "source": [
    "Initialisieren Sie die installierten Pakete, damit sie im folgenden Notebook verwendet werden können.\n"
   ]
  },
  {
   "cell_type": "code",
   "execution_count": 3,
   "metadata": {
    "slideshow": {
     "slide_type": "fragment"
    }
   },
   "outputs": [],
   "source": [
    "using JuMP, GLPK;"
   ]
  },
  {
   "cell_type": "markdown",
   "metadata": {
    "slideshow": {
     "slide_type": "slide"
    }
   },
   "source": [
    "# Planspiel Schritt 1: Aggregierte Planung\n",
    "\n",
    "### Entscheidungsvariablen:\n",
    "\n",
    "Bestimmung der optimalen **Produktionsmengen, Absatzmengen, Fremdbezugsmengen** und **Lagerbestände** der Produkte, sowie der optimal zu nutzenden **Zusatzkapazität** der Ressourcen je Periode, \n",
    "\n",
    "### Zielfunktion:\n",
    "\n",
    "0) **Deckungsbeitragsmaximierung**: $$  \\qquad \\max db = \\displaystyle\\sum_{i=1}^I \\sum_{t=1}^T (e_iA_{it}-k_i^vX_{it}-k_i^l L_{it}-k_i^fF_{it}) - \\sum_{j=1}^J \\sum_{t=1}^T (k_j^zZ_{jt}) $$\n"
   ]
  },
  {
   "cell_type": "markdown",
   "metadata": {
    "slideshow": {
     "slide_type": "slide"
    }
   },
   "source": [
    "### Nebenbedingungen:\n",
    "\n",
    "1) **Kapazitaetsrestriktion:** $ \\hspace{41mm} \\sum_{i=1}^I(r_{ij}\\cdot X_{it}) \\leq c_j + z_{jt} \\hspace{40mm} \\forall j \\in J, t \\in T $\n",
    "\n",
    "2) **Absatzobergrenze:** $\\hspace{38mm} \\qquad A_{it} \\leq d_{it} \\hspace{69mm} \\forall i \\in I , t \\in T $\n",
    "\n",
    "\n",
    "3) **Absatzuntergrenze:** $ \\hspace{37mm}\\qquad A_{it} \\geq d_{it}^{min} \\hspace{66mm} \\forall i \\in I , t \\in T $\n",
    " \n",
    "4) **Lagerbilanz:** $ \\hspace{61mm} L_{it}=L_{i,t-1}+X_{it}-A_{it}+F_{it} \\hspace{31mm} \\forall i \\in I , t \\in T$\n",
    "\n",
    "5) **Anfangslagerbestand:**   $ \\hspace{43mm} L_{i,0} = l_{start} \\hspace{64mm} \\forall  i \\in I$\n",
    "\n",
    "\n",
    "6) **Max. Zusatzkapazität:** $ \\hspace{44mm} Z_{jt} \\leq z_j^{max}  \\hspace{65mm} \\forall j \\in J, t \\in T $\n",
    "\n",
    "7) **Max. Fremdbezug:** $ \\hspace{49mm} F_{it} \\leq f_i^{max} \\hspace{65mm} \\forall i \\in I, t \\in T $\n",
    "\n",
    "8) **Nichtnegativitätsbedingung:** $ \\hspace{31mm} X_{it}, A_{it}, L_{it}, F_{it} \\geq 0 \\hspace{49mm} \\forall i \\in I, t \\in T$\n",
    "\n",
    "und $\\hspace{81mm} Z_{jt} \\geq 0 \\hspace{71mm}  \\forall j \\in J, t \\in T $ \n",
    "\n",
    "* * *"
   ]
  },
  {
   "cell_type": "markdown",
   "metadata": {
    "slideshow": {
     "slide_type": "slide"
    }
   },
   "source": [
    "## Verwendete Symbole"
   ]
  },
  {
   "cell_type": "markdown",
   "metadata": {
    "slideshow": {
     "slide_type": "fragment"
    }
   },
   "source": [
    "### Mengen\n",
    "\n",
    "$i \\in (1,..,I)\\hspace{20mm} $ Produkte  \n",
    "\n",
    "$j \\in (1,..,J)\\hspace{20mm}$  Ressourcen \n",
    "\n",
    "$t \\in (1,..,T)\\hspace{20mm}$  Zeiten "
   ]
  },
  {
   "cell_type": "markdown",
   "metadata": {
    "slideshow": {
     "slide_type": "fragment"
    }
   },
   "source": [
    "### Variablen\n",
    "\n",
    "$X_{it}$  $\\geq0$      $\\hspace{28mm}$ Produktionsmenge      \n",
    "\n",
    "$A_{it}$  $ \\geq 0 $  $\\hspace{28mm} $ Absatzmenge \n",
    "\n",
    "$L_{it}$  $\\geq0$  $\\hspace{28mm} $ Lagerbestand  \n",
    "\n",
    "$F_{it}$       $ \\geq0$    $\\hspace{28mm} $ Fremdbezug   \n",
    "\n",
    "$Z_{jt}$      $\\geq0$      $\\hspace{27mm} $ Zusatzkapazität  \n"
   ]
  },
  {
   "cell_type": "markdown",
   "metadata": {
    "slideshow": {
     "slide_type": "slide"
    }
   },
   "source": [
    "### Parameter\n",
    "\n",
    "$e_i \\hspace{39mm}$   Erlös    \n",
    "\n",
    "$k_i^v \\hspace{38mm}$ variable Kosten\n",
    "\n",
    "$k_i^l \\hspace{38mm}$ Lagerkostensatz \n",
    "\n",
    "$k_j^z \\hspace{38mm}$ Überstundenkostensatz \n",
    "\n",
    "$k_i^f \\hspace{38mm}$ Fremdbezugskosten \n",
    "\n",
    "$d_{it} \\hspace{38mm}$  Nachfrage  \n",
    "\n",
    "$d_{it}^{min} \\hspace{36mm}$ Absatzuntergrenze  \n",
    "\n",
    "$r_{ij} \\hspace{38mm}$  Produktionskoeffizient \n",
    "\n",
    "$c_j \\hspace{39mm}$  Kapazität  \n",
    "\n",
    "$l_{start} \\hspace{34mm}$  Anfangslagerbestand  \n",
    "\n",
    "$z_j^{max} \\hspace{34mm}$ max. Zusatzkapazität \n",
    "\n",
    "$f_i^{max} \\hspace{33mm}$  max. Fremdbezug\n",
    "\n",
    " * * *\n",
    " "
   ]
  },
  {
   "cell_type": "markdown",
   "metadata": {
    "slideshow": {
     "slide_type": "slide"
    }
   },
   "source": [
    "## Erstellen Sie das Modell namens ``m`` und geben Sie als zu verwendenden Solver GLPK an.\n",
    "---"
   ]
  },
  {
   "cell_type": "code",
   "execution_count": 4,
   "metadata": {
    "slideshow": {
     "slide_type": "fragment"
    }
   },
   "outputs": [],
   "source": [
    "m = Model(with_optimizer(GLPK.Optimizer));"
   ]
  },
  {
   "cell_type": "markdown",
   "metadata": {
    "slideshow": {
     "slide_type": "slide"
    }
   },
   "source": [
    "### Mengen und Parameter\n",
    "---"
   ]
  },
  {
   "cell_type": "markdown",
   "metadata": {
    "slideshow": {
     "slide_type": "fragment"
    }
   },
   "source": [
    "Fügen Sie die Mengen ein."
   ]
  },
  {
   "cell_type": "code",
   "execution_count": 5,
   "metadata": {
    "slideshow": {
     "slide_type": "fragment"
    }
   },
   "outputs": [],
   "source": [
    "#Mengen\n",
    "Produkte =   [\"Lady\", \"Dude\", \"Rocker\"];\n",
    "Ressourcen = [\"Herstellen\"];\n",
    "Perioden =   [\"1\", \"2\", \"3\", \"4\", \"5\", \"6\"];\n",
    "\n",
    "#Längen\n",
    "I = length(Produkte);\n",
    "J = length(Ressourcen);\n",
    "T = length(Perioden);"
   ]
  },
  {
   "cell_type": "markdown",
   "metadata": {
    "slideshow": {
     "slide_type": "slide"
    }
   },
   "source": [
    "Fügen Sie die Parameter ein."
   ]
  },
  {
   "cell_type": "code",
   "execution_count": 6,
   "metadata": {
    "slideshow": {
     "slide_type": "fragment"
    }
   },
   "outputs": [],
   "source": [
    "r = [  6.3/60, 5.7/60, 3.9/60]   \n",
    "\n",
    "#Ressourcenverbrauch von Ressource j durch Produkt i\n",
    "\n",
    "       #1,  2,    3,   4,   5,   6\n",
    "d = [  1600 1400 1000 1200 1600 1400     #Lady\n",
    "       1000 1200 800  1000 1600 2000     #Dude\n",
    "       1200 1000 800  1400 1000 1400 ];  #Rocker\n",
    "\n",
    "#Nachfrage von Produkt i in Periode t\n",
    " \n",
    "         #1,  2,    3,   4,   5,   6\n",
    "dmin = [1600 1400 1000 1200 1600 1400     #Lady\n",
    "        1000 1200 800  1000 1600 2000     #Dude\n",
    "        1200 1000 800  1400 1000 1400 ];  #Rocker\n",
    "\n",
    "#Absatzuntergrenze von Produkt i in Periode t"
   ]
  },
  {
   "cell_type": "code",
   "execution_count": 7,
   "metadata": {
    "slideshow": {
     "slide_type": "slide"
    }
   },
   "outputs": [],
   "source": [
    "c =  [320];                  #Kapazität der Ressource j\n",
    "\n",
    "e =  [400, 540, 300];        #Erlös des Produktes\n",
    "\n",
    "#kf = [320, 432, 240];       #Fremdbezugskostensatz 1 der Produkte\n",
    "kf = [240, 324, 180];        #Fremdbezugskostensatz 2 der Produkte (günstiger)\n",
    "\n",
    "kl = [3.2, 4.32, 2.4];       #Lagerkostensatz der Produkte\n",
    "\n",
    "kz = [450];                  #Überstundenkostensatz von Ressource j\n",
    "\n",
    "kv = [80, 108, 60];          #variable Herstellkosten der Produkte\n",
    "\n",
    "zmax = [40];                 #Max. Zusatzkapazität von Ressource j\n",
    "\n",
    "l_start =  [0, 0, 0];        #Anfangslagerbestand der Produkte\n",
    "\n",
    "\n",
    "            #1,   2,   3,   4,  5,   6\n",
    "fmax =  [  2000 2000 2000 2000 2000 2000   #Lady         \n",
    "           2000 2000 2000 2000 2000 2000   #Dude  \n",
    "           2000 2000 2000 2000 2000 2000]; #Rocker\n",
    "\n",
    "    #Maximaler Fremdbezug von Produkt i in Periode t\n"
   ]
  },
  {
   "cell_type": "markdown",
   "metadata": {
    "slideshow": {
     "slide_type": "slide"
    }
   },
   "source": [
    "### Entscheidungsvariablen\n",
    "---\n",
    "Definieren Sie die Entscheidungsvariablen. Achten Sie auf die Definitionsbereiche:"
   ]
  },
  {
   "cell_type": "markdown",
   "metadata": {
    "slideshow": {
     "slide_type": "fragment"
    }
   },
   "source": [
    " **Nichtnegativitätsbedingung**: Die Entscheidungsvariablen, also die Produktions- und Absatzmengen, Lagerbestände, Fremdbezugsmengen und die in Anspruch genommenen Zusatzkapazitäten dürfen nur positive Werte annehmen, wir setzen deren Nichtnegativität voraus.\n",
    "\n",
    "$ \\qquad X_{it}, A_{it}, L_{it}, F_{it} \\geq 0 \\qquad \\qquad \\forall i \\in I, t \\in T$\n",
    "\n",
    "und $\\qquad \\qquad Z_{jt} \\geq 0 \\qquad \\qquad \\qquad  \\forall j \\in J, t \\in T $ "
   ]
  },
  {
   "cell_type": "code",
   "execution_count": 8,
   "metadata": {
    "slideshow": {
     "slide_type": "fragment"
    }
   },
   "outputs": [],
   "source": [
    "@variables  m begin\n",
    "            X[1:I,1:T]>=0,Int  #Produktionsmenge von Produkt i in Periode t\n",
    "            A[1:I,1:T]>=0,Int  #Absatzmenge von Produkt i in Periode t\n",
    "            F[1:I,1:T]>=0,Int  #Fremdbezugsmenge von Produkt i in Periode t\n",
    "            Z[1:J,1:T]>=0,Int  #Zusatzkapazität von Ressource j in Periode t\n",
    "            L[1:I,0:T]>=0,Int; #Lagerbestand von Produkt i am Periodenende von t\n",
    "            end"
   ]
  },
  {
   "cell_type": "markdown",
   "metadata": {
    "slideshow": {
     "slide_type": "slide"
    }
   },
   "source": [
    "## Zielfunktion\n",
    "\n",
    " **Deckungsbeitragsmaximierung:** Der Gesamtdeckungsbeitrag db soll maximiert werden. Dieser berechnet sich hier aus der Summe der einzelnen Produkterlöse abzüglich der variablen Kosten, abzüglich der Lagerkosten, abzüglich der Fremdbezugskosten und wird Zusätzlich noch verringert um die Zusatzkapazitätskosten der Ressourcen.\n",
    "\n",
    "$  \\qquad \\max db = \\displaystyle\\sum_{i=1}^I \\sum_{t=1}^T (e_iA_{it}-k_i^vX_{it}-k_i^l L_{it}-k_i^fF_{it}) - \\sum_{j=1}^J \\sum_{t=1}^T (k_j^zZ_{jt}) $"
   ]
  },
  {
   "cell_type": "code",
   "execution_count": 9,
   "metadata": {
    "scrolled": true,
    "slideshow": {
     "slide_type": "fragment"
    }
   },
   "outputs": [],
   "source": [
    "@objective(m, Max,  sum(e[i] * A[i,t] - kv[i] * X[i,t] - kl[i] * L[i,t] - kf[i] * F[i,t]\n",
    "                    for i=1:I for t=1:T) \n",
    "                    - sum(kz[j] *Z[j,t] for j=1:J for t=1:T));"
   ]
  },
  {
   "cell_type": "markdown",
   "metadata": {
    "slideshow": {
     "slide_type": "slide"
    }
   },
   "source": [
    "## Nebenbedingungen"
   ]
  },
  {
   "cell_type": "markdown",
   "metadata": {
    "slideshow": {
     "slide_type": "fragment"
    }
   },
   "source": [
    " **Kapazitätsrestriktion**: Die zur Verfügung stehende Kapazität für die auf den einzelnen Ressourcen mögliche Produktionszeit darf nicht überschritten werden. Die Summe der Gesamtproduktionszeit aller Produkte $ i = 1,...,I $ auf den einzelnen Ressourcen j darf in jeder Periode die jeweils verfügbare Kapazität  $𝑐_j$ ergänzt um die Zusatzkapazität $o_{jt}$  nicht überschreiten.\n",
    "\n",
    "$ \\qquad \\sum_{i=1}^I(r_{ij}\\cdot X_{it}) \\leq c_j + z_{jt} \\qquad \\forall j \\in J, t \\in T $"
   ]
  },
  {
   "cell_type": "code",
   "execution_count": 10,
   "metadata": {
    "slideshow": {
     "slide_type": "fragment"
    }
   },
   "outputs": [],
   "source": [
    "@constraint(m, KapRes[t=1:T,j=1:J], sum(r[i,j] * X[i,t] for i=1:I) <= c[j] + Z[j,t]);"
   ]
  },
  {
   "cell_type": "markdown",
   "metadata": {},
   "source": [
    "**Absatzuntergrenze**: Für die Produkte existieren Absatzuntergrenzen basierend auf der Nachfrage. Die abgesetzte Menge der einzelnen Produkte kann diese Absatzuntergrenze in keiner Periode unterschreiten.\n",
    "\n",
    "$ \\qquad A_{it} \\geq d_{it}^{min} \\qquad \\qquad \\qquad \\qquad \\forall i \\in I , t \\in T $"
   ]
  },
  {
   "cell_type": "code",
   "execution_count": 11,
   "metadata": {},
   "outputs": [],
   "source": [
    "@constraint(m, AbsUn[i=1:I,t=1:T], A[i,t] >= dmin[i,t]);"
   ]
  },
  {
   "cell_type": "markdown",
   "metadata": {},
   "source": [
    "**Absatzobergrenze**: Für die Produkte existieren Absatzober- und untergrenzen basierend auf der Nachfrage. Die abgesetzte Menge der einzelnen Produkte kann diese Absatzobergrenze in keiner Periode überschreiten.\n",
    "\n",
    "$ \\qquad A_{it} \\leq d_{it}^{max} \\qquad \\qquad \\qquad \\qquad \\forall i \\in I , t \\in T $"
   ]
  },
  {
   "cell_type": "code",
   "execution_count": 12,
   "metadata": {},
   "outputs": [],
   "source": [
    "@constraint(m, AbsOb[i=1:I,t=1:T], A[i,t] <= d[i,t]);"
   ]
  },
  {
   "cell_type": "markdown",
   "metadata": {
    "slideshow": {
     "slide_type": "fragment"
    }
   },
   "source": [
    " **Lagerbilanz**: Der Lagerbestand eines Produktes am Ende einer Periode berechnet sich aus der Summe der eingelagerten Menge in der Vorperiode, der Produktionsmenge und der Fremdbezugsmenge, abzüglich der abgesetzen Menge des Produktes.\n",
    "\n",
    "$ \\qquad L_{it}=L_{i,t-1}+X_{it}-A_{it}+F_{it} \\qquad \\forall i \\in I , t \\in T$"
   ]
  },
  {
   "cell_type": "code",
   "execution_count": 13,
   "metadata": {
    "slideshow": {
     "slide_type": "fragment"
    }
   },
   "outputs": [],
   "source": [
    "@constraint(m, Lager[i=1:I,t=1:T], L[i,t] == L[i,t-1] + X[i,t] + F[i,t] - A[i,t]);"
   ]
  },
  {
   "cell_type": "markdown",
   "metadata": {},
   "source": [
    " **Anfangslagerbestand**: Der Anfangslagerbestand aller Produkte entspricht dem initial gesetzen $l_i$.\n",
    " \n",
    "  $$ \\qquad L_{i,0} = l_{start} \\hspace{40mm} \\forall  i \\in I$$\n"
   ]
  },
  {
   "cell_type": "code",
   "execution_count": 14,
   "metadata": {},
   "outputs": [],
   "source": [
    "@constraint(m, AnfLager[i=1:I], L[i,0] == l_start[i]);"
   ]
  },
  {
   "cell_type": "markdown",
   "metadata": {
    "slideshow": {
     "slide_type": "slide"
    }
   },
   "source": [
    " **Max. Zusatzkapazität**: Die eingesetzten Zusatzkapazitäten (Überstunden) für jede Ressource müssen in jeder Periode unter der Obergrenze, der maximalen Zusatzkapazität, bleiben. Die maximale Zusatzkapazität ist für jede Ressource j einzeln gegeben.\n",
    "\n",
    "$ \\qquad Z_{jt} \\leq z_j^{max}  \\qquad \\qquad \\qquad \\qquad \\forall j \\in J, t \\in T $"
   ]
  },
  {
   "cell_type": "code",
   "execution_count": 15,
   "metadata": {
    "slideshow": {
     "slide_type": "fragment"
    }
   },
   "outputs": [],
   "source": [
    "@constraint(m, ZusatzKapa[j=1:J,t=1:T], Z[j,t] <= zmax[j] );"
   ]
  },
  {
   "cell_type": "markdown",
   "metadata": {
    "slideshow": {
     "slide_type": "fragment"
    }
   },
   "source": [
    "**Max. Fremdbezug**: Der dazugekaufte Fremdbezug jedes Produktes muss in allen Perioden unter der Obergrenze, dem maximalen Fremdbezug, bleiben. Der maximale Fremdbezug ist für jedes Produkt i einzeln gegeben. \n",
    "\n",
    "$ \\qquad F_{it} \\leq f_i^{max} \\qquad \\qquad \\qquad \\qquad \\forall i \\in I, t \\in T $"
   ]
  },
  {
   "cell_type": "code",
   "execution_count": 16,
   "metadata": {
    "slideshow": {
     "slide_type": "fragment"
    }
   },
   "outputs": [],
   "source": [
    "@constraint(m, FremdB[i=1:I,t=1:T], F[i,t] <= fmax[i,t] );"
   ]
  },
  {
   "cell_type": "markdown",
   "metadata": {
    "slideshow": {
     "slide_type": "slide"
    }
   },
   "source": [
    "## Lösen Sie das Modell.\n",
    "---"
   ]
  },
  {
   "cell_type": "code",
   "execution_count": 17,
   "metadata": {
    "slideshow": {
     "slide_type": "fragment"
    }
   },
   "outputs": [],
   "source": [
    "optimize!(m)"
   ]
  },
  {
   "cell_type": "markdown",
   "metadata": {},
   "source": [
    "Lassen Sie sich das Modell anzeigen."
   ]
  },
  {
   "cell_type": "code",
   "execution_count": 18,
   "metadata": {
    "scrolled": true
   },
   "outputs": [
    {
     "data": {
      "text/latex": [
       "$$ \\begin{alignat*}{1}\\max\\quad & 400 A_{1,1} - 80 X_{1,1} - 3.2 L_{1,1} - 240 F_{1,1} + 400 A_{1,2} - 80 X_{1,2} - 3.2 L_{1,2} - 240 F_{1,2} + 400 A_{1,3} - 80 X_{1,3} - 3.2 L_{1,3} - 240 F_{1,3} + 400 A_{1,4} - 80 X_{1,4} - 3.2 L_{1,4} - 240 F_{1,4} + 400 A_{1,5} - 80 X_{1,5} - 3.2 L_{1,5} - 240 F_{1,5} + 400 A_{1,6} - 80 X_{1,6} - 3.2 L_{1,6} - 240 F_{1,6} + 540 A_{2,1} - 108 X_{2,1} - 4.32 L_{2,1} - 324 F_{2,1} + 540 A_{2,2} - 108 X_{2,2} - 4.32 L_{2,2} - 324 F_{2,2} + 540 A_{2,3} - 108 X_{2,3} - 4.32 L_{2,3} - 324 F_{2,3} + 540 A_{2,4} - 108 X_{2,4} - 4.32 L_{2,4} - 324 F_{2,4} + 540 A_{2,5} - 108 X_{2,5} - 4.32 L_{2,5} - 324 F_{2,5} + 540 A_{2,6} - 108 X_{2,6} - 4.32 L_{2,6} - 324 F_{2,6} + 300 A_{3,1} - 60 X_{3,1} - 2.4 L_{3,1} - 180 F_{3,1} + 300 A_{3,2} - 60 X_{3,2} - 2.4 L_{3,2} - 180 F_{3,2} + 300 A_{3,3} - 60 X_{3,3} - 2.4 L_{3,3} - 180 F_{3,3} + 300 A_{3,4} - 60 X_{3,4} - 2.4 L_{3,4} - 180 F_{3,4} + 300 A_{3,5} - 60 X_{3,5} - 2.4 L_{3,5} - 180 F_{3,5} + 300 A_{3,6} - 60 X_{3,6} - 2.4 L_{3,6} - 180 F_{3,6} - 450 Z_{1,1} - 450 Z_{1,2} - 450 Z_{1,3} - 450 Z_{1,4} - 450 Z_{1,5} - 450 Z_{1,6}\\\\\n",
       "\\text{Subject to} \\quad & L_{1,1} - L_{1,0} - X_{1,1} - F_{1,1} + A_{1,1} = 0.0\\\\\n",
       " & L_{1,2} - L_{1,1} - X_{1,2} - F_{1,2} + A_{1,2} = 0.0\\\\\n",
       " & L_{1,3} - L_{1,2} - X_{1,3} - F_{1,3} + A_{1,3} = 0.0\\\\\n",
       " & L_{1,4} - L_{1,3} - X_{1,4} - F_{1,4} + A_{1,4} = 0.0\\\\\n",
       " & L_{1,5} - L_{1,4} - X_{1,5} - F_{1,5} + A_{1,5} = 0.0\\\\\n",
       " & L_{1,6} - L_{1,5} - X_{1,6} - F_{1,6} + A_{1,6} = 0.0\\\\\n",
       " & L_{2,1} - L_{2,0} - X_{2,1} - F_{2,1} + A_{2,1} = 0.0\\\\\n",
       " & L_{2,2} - L_{2,1} - X_{2,2} - F_{2,2} + A_{2,2} = 0.0\\\\\n",
       " & L_{2,3} - L_{2,2} - X_{2,3} - F_{2,3} + A_{2,3} = 0.0\\\\\n",
       " & L_{2,4} - L_{2,3} - X_{2,4} - F_{2,4} + A_{2,4} = 0.0\\\\\n",
       " & L_{2,5} - L_{2,4} - X_{2,5} - F_{2,5} + A_{2,5} = 0.0\\\\\n",
       " & L_{2,6} - L_{2,5} - X_{2,6} - F_{2,6} + A_{2,6} = 0.0\\\\\n",
       " & L_{3,1} - L_{3,0} - X_{3,1} - F_{3,1} + A_{3,1} = 0.0\\\\\n",
       " & L_{3,2} - L_{3,1} - X_{3,2} - F_{3,2} + A_{3,2} = 0.0\\\\\n",
       " & L_{3,3} - L_{3,2} - X_{3,3} - F_{3,3} + A_{3,3} = 0.0\\\\\n",
       " & L_{3,4} - L_{3,3} - X_{3,4} - F_{3,4} + A_{3,4} = 0.0\\\\\n",
       " & L_{3,5} - L_{3,4} - X_{3,5} - F_{3,5} + A_{3,5} = 0.0\\\\\n",
       " & L_{3,6} - L_{3,5} - X_{3,6} - F_{3,6} + A_{3,6} = 0.0\\\\\n",
       " & L_{1,0} = 0.0\\\\\n",
       " & L_{2,0} = 0.0\\\\\n",
       " & L_{3,0} = 0.0\\\\\n",
       " & A_{1,1} \\geq 1600.0\\\\\n",
       " & A_{1,2} \\geq 1400.0\\\\\n",
       " & A_{1,3} \\geq 1000.0\\\\\n",
       " & A_{1,4} \\geq 1200.0\\\\\n",
       " & A_{1,5} \\geq 1600.0\\\\\n",
       " & A_{1,6} \\geq 1400.0\\\\\n",
       " & A_{2,1} \\geq 1000.0\\\\\n",
       " & A_{2,2} \\geq 1200.0\\\\\n",
       " & A_{2,3} \\geq 800.0\\\\\n",
       " & A_{2,4} \\geq 1000.0\\\\\n",
       " & A_{2,5} \\geq 1600.0\\\\\n",
       " & A_{2,6} \\geq 2000.0\\\\\n",
       " & A_{3,1} \\geq 1200.0\\\\\n",
       " & A_{3,2} \\geq 1000.0\\\\\n",
       " & A_{3,3} \\geq 800.0\\\\\n",
       " & A_{3,4} \\geq 1400.0\\\\\n",
       " & A_{3,5} \\geq 1000.0\\\\\n",
       " & A_{3,6} \\geq 1400.0\\\\\n",
       " & 0.105 X_{1,1} + 0.095 X_{2,1} + 0.065 X_{3,1} - Z_{1,1} \\leq 320.0\\\\\n",
       " & 0.105 X_{1,2} + 0.095 X_{2,2} + 0.065 X_{3,2} - Z_{1,2} \\leq 320.0\\\\\n",
       " & 0.105 X_{1,3} + 0.095 X_{2,3} + 0.065 X_{3,3} - Z_{1,3} \\leq 320.0\\\\\n",
       " & 0.105 X_{1,4} + 0.095 X_{2,4} + 0.065 X_{3,4} - Z_{1,4} \\leq 320.0\\\\\n",
       " & 0.105 X_{1,5} + 0.095 X_{2,5} + 0.065 X_{3,5} - Z_{1,5} \\leq 320.0\\\\\n",
       " & 0.105 X_{1,6} + 0.095 X_{2,6} + 0.065 X_{3,6} - Z_{1,6} \\leq 320.0\\\\\n",
       " & A_{1,1} \\leq 1600.0\\\\\n",
       " & A_{1,2} \\leq 1400.0\\\\\n",
       " & A_{1,3} \\leq 1000.0\\\\\n",
       " & A_{1,4} \\leq 1200.0\\\\\n",
       " & A_{1,5} \\leq 1600.0\\\\\n",
       " & A_{1,6} \\leq 1400.0\\\\\n",
       " & A_{2,1} \\leq 1000.0\\\\\n",
       " & A_{2,2} \\leq 1200.0\\\\\n",
       " & A_{2,3} \\leq 800.0\\\\\n",
       " & A_{2,4} \\leq 1000.0\\\\\n",
       " & A_{2,5} \\leq 1600.0\\\\\n",
       " & A_{2,6} \\leq 2000.0\\\\\n",
       " & A_{3,1} \\leq 1200.0\\\\\n",
       " & A_{3,2} \\leq 1000.0\\\\\n",
       " & A_{3,3} \\leq 800.0\\\\\n",
       " & A_{3,4} \\leq 1400.0\\\\\n",
       " & A_{3,5} \\leq 1000.0\\\\\n",
       " & A_{3,6} \\leq 1400.0\\\\\n",
       " & Z_{1,1} \\leq 40.0\\\\\n",
       " & Z_{1,2} \\leq 40.0\\\\\n",
       " & Z_{1,3} \\leq 40.0\\\\\n",
       " & Z_{1,4} \\leq 40.0\\\\\n",
       " & Z_{1,5} \\leq 40.0\\\\\n",
       " & Z_{1,6} \\leq 40.0\\\\\n",
       " & F_{1,1} \\leq 2000.0\\\\\n",
       " & F_{1,2} \\leq 2000.0\\\\\n",
       " & F_{1,3} \\leq 2000.0\\\\\n",
       " & F_{1,4} \\leq 2000.0\\\\\n",
       " & F_{1,5} \\leq 2000.0\\\\\n",
       " & F_{1,6} \\leq 2000.0\\\\\n",
       " & F_{2,1} \\leq 2000.0\\\\\n",
       " & F_{2,2} \\leq 2000.0\\\\\n",
       " & F_{2,3} \\leq 2000.0\\\\\n",
       " & F_{2,4} \\leq 2000.0\\\\\n",
       " & F_{2,5} \\leq 2000.0\\\\\n",
       " & F_{2,6} \\leq 2000.0\\\\\n",
       " & F_{3,1} \\leq 2000.0\\\\\n",
       " & F_{3,2} \\leq 2000.0\\\\\n",
       " & F_{3,3} \\leq 2000.0\\\\\n",
       " & F_{3,4} \\leq 2000.0\\\\\n",
       " & F_{3,5} \\leq 2000.0\\\\\n",
       " & F_{3,6} \\leq 2000.0\\\\\n",
       " & X_{1,1} \\geq 0.0\\\\\n",
       " & X_{1,2} \\geq 0.0\\\\\n",
       " & X_{1,3} \\geq 0.0\\\\\n",
       " & X_{1,4} \\geq 0.0\\\\\n",
       " & X_{1,5} \\geq 0.0\\\\\n",
       " & X_{1,6} \\geq 0.0\\\\\n",
       " & X_{2,1} \\geq 0.0\\\\\n",
       " & X_{2,2} \\geq 0.0\\\\\n",
       " & X_{2,3} \\geq 0.0\\\\\n",
       " & X_{2,4} \\geq 0.0\\\\\n",
       " & X_{2,5} \\geq 0.0\\\\\n",
       " & X_{2,6} \\geq 0.0\\\\\n",
       " & X_{3,1} \\geq 0.0\\\\\n",
       " & X_{3,2} \\geq 0.0\\\\\n",
       " & X_{3,3} \\geq 0.0\\\\\n",
       " & X_{3,4} \\geq 0.0\\\\\n",
       " & X_{3,5} \\geq 0.0\\\\\n",
       " & X_{3,6} \\geq 0.0\\\\\n",
       " & A_{1,1} \\geq 0.0\\\\\n",
       " & A_{1,2} \\geq 0.0\\\\\n",
       " & A_{1,3} \\geq 0.0\\\\\n",
       " & A_{1,4} \\geq 0.0\\\\\n",
       " & A_{1,5} \\geq 0.0\\\\\n",
       " & A_{1,6} \\geq 0.0\\\\\n",
       " & A_{2,1} \\geq 0.0\\\\\n",
       " & A_{2,2} \\geq 0.0\\\\\n",
       " & A_{2,3} \\geq 0.0\\\\\n",
       " & A_{2,4} \\geq 0.0\\\\\n",
       " & A_{2,5} \\geq 0.0\\\\\n",
       " & A_{2,6} \\geq 0.0\\\\\n",
       " & A_{3,1} \\geq 0.0\\\\\n",
       " & A_{3,2} \\geq 0.0\\\\\n",
       " & A_{3,3} \\geq 0.0\\\\\n",
       " & A_{3,4} \\geq 0.0\\\\\n",
       " & A_{3,5} \\geq 0.0\\\\\n",
       " & A_{3,6} \\geq 0.0\\\\\n",
       " & F_{1,1} \\geq 0.0\\\\\n",
       " & F_{1,2} \\geq 0.0\\\\\n",
       " & F_{1,3} \\geq 0.0\\\\\n",
       " & F_{1,4} \\geq 0.0\\\\\n",
       " & F_{1,5} \\geq 0.0\\\\\n",
       " & F_{1,6} \\geq 0.0\\\\\n",
       " & F_{2,1} \\geq 0.0\\\\\n",
       " & F_{2,2} \\geq 0.0\\\\\n",
       " & F_{2,3} \\geq 0.0\\\\\n",
       " & F_{2,4} \\geq 0.0\\\\\n",
       " & F_{2,5} \\geq 0.0\\\\\n",
       " & F_{2,6} \\geq 0.0\\\\\n",
       " & F_{3,1} \\geq 0.0\\\\\n",
       " & F_{3,2} \\geq 0.0\\\\\n",
       " & F_{3,3} \\geq 0.0\\\\\n",
       " & F_{3,4} \\geq 0.0\\\\\n",
       " & F_{3,5} \\geq 0.0\\\\\n",
       " & F_{3,6} \\geq 0.0\\\\\n",
       " & Z_{1,1} \\geq 0.0\\\\\n",
       " & Z_{1,2} \\geq 0.0\\\\\n",
       " & Z_{1,3} \\geq 0.0\\\\\n",
       " & Z_{1,4} \\geq 0.0\\\\\n",
       " & Z_{1,5} \\geq 0.0\\\\\n",
       " & Z_{1,6} \\geq 0.0\\\\\n",
       " & L_{1,0} \\geq 0.0\\\\\n",
       " & L_{1,1} \\geq 0.0\\\\\n",
       " & L_{1,2} \\geq 0.0\\\\\n",
       " & L_{1,3} \\geq 0.0\\\\\n",
       " & L_{1,4} \\geq 0.0\\\\\n",
       " & L_{1,5} \\geq 0.0\\\\\n",
       " & L_{1,6} \\geq 0.0\\\\\n",
       " & L_{2,0} \\geq 0.0\\\\\n",
       " & L_{2,1} \\geq 0.0\\\\\n",
       " & L_{2,2} \\geq 0.0\\\\\n",
       " & L_{2,3} \\geq 0.0\\\\\n",
       " & L_{2,4} \\geq 0.0\\\\\n",
       " & L_{2,5} \\geq 0.0\\\\\n",
       " & L_{2,6} \\geq 0.0\\\\\n",
       " & L_{3,0} \\geq 0.0\\\\\n",
       " & L_{3,1} \\geq 0.0\\\\\n",
       " & L_{3,2} \\geq 0.0\\\\\n",
       " & L_{3,3} \\geq 0.0\\\\\n",
       " & L_{3,4} \\geq 0.0\\\\\n",
       " & L_{3,5} \\geq 0.0\\\\\n",
       " & L_{3,6} \\geq 0.0\\\\\n",
       " & X_{1,1} integer\\\\\n",
       " & X_{1,2} integer\\\\\n",
       " & X_{1,3} integer\\\\\n",
       " & X_{1,4} integer\\\\\n",
       " & X_{1,5} integer\\\\\n",
       " & X_{1,6} integer\\\\\n",
       " & X_{2,1} integer\\\\\n",
       " & X_{2,2} integer\\\\\n",
       " & X_{2,3} integer\\\\\n",
       " & X_{2,4} integer\\\\\n",
       " & X_{2,5} integer\\\\\n",
       " & X_{2,6} integer\\\\\n",
       " & X_{3,1} integer\\\\\n",
       " & X_{3,2} integer\\\\\n",
       " & X_{3,3} integer\\\\\n",
       " & X_{3,4} integer\\\\\n",
       " & X_{3,5} integer\\\\\n",
       " & X_{3,6} integer\\\\\n",
       " & A_{1,1} integer\\\\\n",
       " & A_{1,2} integer\\\\\n",
       " & A_{1,3} integer\\\\\n",
       " & A_{1,4} integer\\\\\n",
       " & A_{1,5} integer\\\\\n",
       " & A_{1,6} integer\\\\\n",
       " & A_{2,1} integer\\\\\n",
       " & A_{2,2} integer\\\\\n",
       " & A_{2,3} integer\\\\\n",
       " & A_{2,4} integer\\\\\n",
       " & A_{2,5} integer\\\\\n",
       " & A_{2,6} integer\\\\\n",
       " & A_{3,1} integer\\\\\n",
       " & A_{3,2} integer\\\\\n",
       " & A_{3,3} integer\\\\\n",
       " & A_{3,4} integer\\\\\n",
       " & A_{3,5} integer\\\\\n",
       " & A_{3,6} integer\\\\\n",
       " & F_{1,1} integer\\\\\n",
       " & F_{1,2} integer\\\\\n",
       " & F_{1,3} integer\\\\\n",
       " & F_{1,4} integer\\\\\n",
       " & F_{1,5} integer\\\\\n",
       " & F_{1,6} integer\\\\\n",
       " & F_{2,1} integer\\\\\n",
       " & F_{2,2} integer\\\\\n",
       " & F_{2,3} integer\\\\\n",
       " & F_{2,4} integer\\\\\n",
       " & F_{2,5} integer\\\\\n",
       " & F_{2,6} integer\\\\\n",
       " & F_{3,1} integer\\\\\n",
       " & F_{3,2} integer\\\\\n",
       " & F_{3,3} integer\\\\\n",
       " & F_{3,4} integer\\\\\n",
       " & F_{3,5} integer\\\\\n",
       " & F_{3,6} integer\\\\\n",
       " & Z_{1,1} integer\\\\\n",
       " & Z_{1,2} integer\\\\\n",
       " & Z_{1,3} integer\\\\\n",
       " & Z_{1,4} integer\\\\\n",
       " & Z_{1,5} integer\\\\\n",
       " & Z_{1,6} integer\\\\\n",
       " & L_{1,0} integer\\\\\n",
       " & L_{1,1} integer\\\\\n",
       " & L_{1,2} integer\\\\\n",
       " & L_{1,3} integer\\\\\n",
       " & L_{1,4} integer\\\\\n",
       " & L_{1,5} integer\\\\\n",
       " & L_{1,6} integer\\\\\n",
       " & L_{2,0} integer\\\\\n",
       " & L_{2,1} integer\\\\\n",
       " & L_{2,2} integer\\\\\n",
       " & L_{2,3} integer\\\\\n",
       " & L_{2,4} integer\\\\\n",
       " & L_{2,5} integer\\\\\n",
       " & L_{2,6} integer\\\\\n",
       " & L_{3,0} integer\\\\\n",
       " & L_{3,1} integer\\\\\n",
       " & L_{3,2} integer\\\\\n",
       " & L_{3,3} integer\\\\\n",
       " & L_{3,4} integer\\\\\n",
       " & L_{3,5} integer\\\\\n",
       " & L_{3,6} integer\\\\\n",
       "\\end{alignat*}\n",
       " $$"
      ],
      "text/plain": [
       "A JuMP Model\n",
       "Maximization problem with:\n",
       "Variables: 81\n",
       "Objective function type: GenericAffExpr{Float64,VariableRef}\n",
       "`GenericAffExpr{Float64,VariableRef}`-in-`MathOptInterface.EqualTo{Float64}`: 21 constraints\n",
       "`GenericAffExpr{Float64,VariableRef}`-in-`MathOptInterface.GreaterThan{Float64}`: 18 constraints\n",
       "`GenericAffExpr{Float64,VariableRef}`-in-`MathOptInterface.LessThan{Float64}`: 48 constraints\n",
       "`VariableRef`-in-`MathOptInterface.GreaterThan{Float64}`: 81 constraints\n",
       "`VariableRef`-in-`MathOptInterface.Integer`: 81 constraints\n",
       "Model mode: AUTOMATIC\n",
       "CachingOptimizer state: ATTACHED_OPTIMIZER\n",
       "Solver name: GLPK\n",
       "Names registered in the model: A, AbsOb, AbsUn, AnfLager, F, FremdB, KapRes, L, Lager, X, Z, ZusatzKapa"
      ]
     },
     "execution_count": 18,
     "metadata": {},
     "output_type": "execute_result"
    }
   ],
   "source": [
    "m"
   ]
  },
  {
   "cell_type": "markdown",
   "metadata": {
    "slideshow": {
     "slide_type": "fragment"
    }
   },
   "source": [
    "Lassen Sie sich den Zielfunktionswert anzeigen."
   ]
  },
  {
   "cell_type": "code",
   "execution_count": 32,
   "metadata": {
    "scrolled": true,
    "slideshow": {
     "slide_type": "fragment"
    }
   },
   "outputs": [
    {
     "name": "stdout",
     "output_type": "stream",
     "text": [
      "Objective value db: 7484324\n"
     ]
    }
   ],
   "source": [
    "db= JuMP.objective_value(m)\n",
    "println(\"Objective value db: \", round(Int64,db))"
   ]
  },
  {
   "cell_type": "code",
   "execution_count": 21,
   "metadata": {},
   "outputs": [
    {
     "data": {
      "text/plain": [
       "1×6 Array{Float64,2}:\n",
       " 21.0  6.0  0.0  0.0  38.0  40.0"
      ]
     },
     "execution_count": 21,
     "metadata": {},
     "output_type": "execute_result"
    }
   ],
   "source": [
    "JuMP.value.(Z)"
   ]
  },
  {
   "cell_type": "code",
   "execution_count": 22,
   "metadata": {
    "scrolled": true
   },
   "outputs": [
    {
     "data": {
      "text/plain": [
       "2-dimensional DenseAxisArray{Float64,2,...} with index sets:\n",
       "    Dimension 1, 1:3\n",
       "    Dimension 2, 0:6\n",
       "And data, a 3×7 Array{Float64,2}:\n",
       " 0.0  0.0  0.0  823.0  902.0  647.0  0.0\n",
       " 0.0  0.0  0.0    0.0    1.0    0.0  0.0\n",
       " 0.0  0.0  0.0    9.0    3.0    1.0  0.0"
      ]
     },
     "execution_count": 22,
     "metadata": {},
     "output_type": "execute_result"
    }
   ],
   "source": [
    "JuMP.value.(L)"
   ]
  },
  {
   "cell_type": "code",
   "execution_count": 23,
   "metadata": {},
   "outputs": [
    {
     "data": {
      "text/plain": [
       "3×6 Array{Float64,2}:\n",
       " 0.0  0.0  0.0  0.0  0.0  0.0\n",
       " 0.0  0.0  0.0  0.0  0.0  0.0\n",
       " 0.0  0.0  0.0  0.0  0.0  0.0"
      ]
     },
     "execution_count": 23,
     "metadata": {},
     "output_type": "execute_result"
    }
   ],
   "source": [
    "JuMP.value.(F)"
   ]
  },
  {
   "cell_type": "code",
   "execution_count": 24,
   "metadata": {
    "scrolled": true
   },
   "outputs": [
    {
     "data": {
      "text/plain": [
       "3×6 Array{Float64,2}:\n",
       " 1600.0  1400.0  1000.0  1200.0  1600.0  1400.0\n",
       " 1000.0  1200.0   800.0  1000.0  1600.0  2000.0\n",
       " 1200.0  1000.0   800.0  1400.0  1000.0  1400.0"
      ]
     },
     "execution_count": 24,
     "metadata": {},
     "output_type": "execute_result"
    }
   ],
   "source": [
    "JuMP.value.(A)"
   ]
  },
  {
   "cell_type": "code",
   "execution_count": 25,
   "metadata": {},
   "outputs": [
    {
     "data": {
      "text/plain": [
       "3×6 Array{Float64,2}:\n",
       " 1600.0  1400.0  1823.0  1279.0  1345.0   753.0\n",
       " 1000.0  1200.0   800.0  1001.0  1599.0  2000.0\n",
       " 1200.0  1000.0   809.0  1394.0   998.0  1399.0"
      ]
     },
     "execution_count": 25,
     "metadata": {},
     "output_type": "execute_result"
    }
   ],
   "source": [
    "JuMP.value.(X)"
   ]
  },
  {
   "cell_type": "code",
   "execution_count": 26,
   "metadata": {},
   "outputs": [
    {
     "data": {
      "text/plain": [
       "4.104e6"
      ]
     },
     "execution_count": 26,
     "metadata": {},
     "output_type": "execute_result"
    }
   ],
   "source": [
    "sum(JuMP.value.(A[2,t])*e[2] for t in 1:T)"
   ]
  },
  {
   "cell_type": "code",
   "execution_count": 27,
   "metadata": {},
   "outputs": [
    {
     "name": "stdout",
     "output_type": "stream",
     "text": [
      "2040000\n"
     ]
    }
   ],
   "source": [
    "println(round(Int64,2.04e6))"
   ]
  }
 ],
 "metadata": {
  "kernelspec": {
   "display_name": "Julia 1.2.0",
   "language": "julia",
   "name": "julia-1.2"
  },
  "language_info": {
   "file_extension": ".jl",
   "mimetype": "application/julia",
   "name": "julia",
   "version": "1.2.0"
  }
 },
 "nbformat": 4,
 "nbformat_minor": 2
}
